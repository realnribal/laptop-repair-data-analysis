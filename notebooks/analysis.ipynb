{
 "cells": [
  {
   "cell_type": "markdown",
   "metadata": {},
   "source": [
    "1. Let's import `pandas`"
   ]
  },
  {
   "cell_type": "code",
   "execution_count": 4,
   "metadata": {},
   "outputs": [],
   "source": [
    "import pandas as pd"
   ]
  },
  {
   "cell_type": "markdown",
   "metadata": {},
   "source": [
    "2. Import the dataset in `laptops.csv` and assign it to variable `laptops_df`"
   ]
  },
  {
   "cell_type": "code",
   "execution_count": 7,
   "metadata": {},
   "outputs": [],
   "source": [
    "laptops_df = pd.read_csv('../data/laptops.csv')"
   ]
  },
  {
   "cell_type": "markdown",
   "metadata": {},
   "source": [
    "3. Display the first five lines of the laptops DataFrame."
   ]
  },
  {
   "cell_type": "code",
   "execution_count": 8,
   "metadata": {},
   "outputs": [
    {
     "data": {
      "text/html": [
       "<div>\n",
       "<style scoped>\n",
       "    .dataframe tbody tr th:only-of-type {\n",
       "        vertical-align: middle;\n",
       "    }\n",
       "\n",
       "    .dataframe tbody tr th {\n",
       "        vertical-align: top;\n",
       "    }\n",
       "\n",
       "    .dataframe thead th {\n",
       "        text-align: right;\n",
       "    }\n",
       "</style>\n",
       "<table border=\"1\" class=\"dataframe\">\n",
       "  <thead>\n",
       "    <tr style=\"text-align: right;\">\n",
       "      <th></th>\n",
       "      <th>problem</th>\n",
       "      <th>brand</th>\n",
       "      <th>repair_status</th>\n",
       "      <th>event_year</th>\n",
       "      <th>age</th>\n",
       "    </tr>\n",
       "  </thead>\n",
       "  <tbody>\n",
       "    <tr>\n",
       "      <th>0</th>\n",
       "      <td>unknown</td>\n",
       "      <td>lenovo</td>\n",
       "      <td>fixed</td>\n",
       "      <td>2019</td>\n",
       "      <td>0.0</td>\n",
       "    </tr>\n",
       "    <tr>\n",
       "      <th>1</th>\n",
       "      <td>virus/malware</td>\n",
       "      <td>lenovo</td>\n",
       "      <td>fixed</td>\n",
       "      <td>2018</td>\n",
       "      <td>0.0</td>\n",
       "    </tr>\n",
       "    <tr>\n",
       "      <th>2</th>\n",
       "      <td>operating system</td>\n",
       "      <td>geo</td>\n",
       "      <td>fixed</td>\n",
       "      <td>2019</td>\n",
       "      <td>0.0</td>\n",
       "    </tr>\n",
       "    <tr>\n",
       "      <th>3</th>\n",
       "      <td>multiple</td>\n",
       "      <td>hp</td>\n",
       "      <td>fixed</td>\n",
       "      <td>2019</td>\n",
       "      <td>0.0</td>\n",
       "    </tr>\n",
       "    <tr>\n",
       "      <th>4</th>\n",
       "      <td>virus/malware</td>\n",
       "      <td>hp</td>\n",
       "      <td>fixed</td>\n",
       "      <td>2018</td>\n",
       "      <td>0.0</td>\n",
       "    </tr>\n",
       "  </tbody>\n",
       "</table>\n",
       "</div>"
      ],
      "text/plain": [
       "            problem   brand repair_status  event_year  age\n",
       "0           unknown  lenovo         fixed        2019  0.0\n",
       "1     virus/malware  lenovo         fixed        2018  0.0\n",
       "2  operating system     geo         fixed        2019  0.0\n",
       "3          multiple      hp         fixed        2019  0.0\n",
       "4     virus/malware      hp         fixed        2018  0.0"
      ]
     },
     "execution_count": 8,
     "metadata": {},
     "output_type": "execute_result"
    }
   ],
   "source": [
    "laptops_df.head(n=5)"
   ]
  },
  {
   "cell_type": "markdown",
   "metadata": {},
   "source": [
    "4. Display the data types of the laptops DataFrame columns."
   ]
  },
  {
   "cell_type": "code",
   "execution_count": 9,
   "metadata": {},
   "outputs": [
    {
     "name": "stdout",
     "output_type": "stream",
     "text": [
      "problem           object\n",
      "brand             object\n",
      "repair_status     object\n",
      "event_year         int64\n",
      "age              float64\n",
      "dtype: object\n"
     ]
    }
   ],
   "source": [
    "print(laptops_df.dtypes)\n"
   ]
  },
  {
   "cell_type": "markdown",
   "metadata": {},
   "source": [
    "5. Let's take a look at the ages of laptops being brought in for repair. Use a series method to display the minimum, maximum, and other summary statistics for the age column."
   ]
  },
  {
   "cell_type": "code",
   "execution_count": 11,
   "metadata": {},
   "outputs": [
    {
     "data": {
      "text/plain": [
       "count    815.000000\n",
       "mean       6.136196\n",
       "std        3.600758\n",
       "min        0.000000\n",
       "25%        4.000000\n",
       "50%        5.000000\n",
       "75%        8.000000\n",
       "max       29.000000\n",
       "Name: age, dtype: float64"
      ]
     },
     "execution_count": 11,
     "metadata": {},
     "output_type": "execute_result"
    }
   ],
   "source": [
    "laptops_df['age'].describe()"
   ]
  },
  {
   "cell_type": "markdown",
   "metadata": {},
   "source": [
    "6. The other numeric column is event_year. Use a pandas method to determine the earliest and latest years in the dataset."
   ]
  },
  {
   "cell_type": "code",
   "execution_count": 12,
   "metadata": {},
   "outputs": [
    {
     "data": {
      "text/plain": [
       "count    3511.000000\n",
       "mean     2017.583594\n",
       "std         1.691374\n",
       "min      2012.000000\n",
       "25%      2017.000000\n",
       "50%      2018.000000\n",
       "75%      2019.000000\n",
       "max      2020.000000\n",
       "Name: event_year, dtype: float64"
      ]
     },
     "execution_count": 12,
     "metadata": {},
     "output_type": "execute_result"
    }
   ],
   "source": [
    "laptops_df['event_year'].describe()"
   ]
  },
  {
   "cell_type": "markdown",
   "metadata": {},
   "source": [
    "7. Let's also take a look at `event_year` as a categorical column. Use a series method to output the number of laptops in the data for each `event_year`."
   ]
  },
  {
   "cell_type": "code",
   "execution_count": 13,
   "metadata": {},
   "outputs": [
    {
     "data": {
      "text/plain": [
       "event_year\n",
       "2019    1116\n",
       "2018     690\n",
       "2017     686\n",
       "2016     362\n",
       "2020     231\n",
       "2014     177\n",
       "2015     162\n",
       "2013      86\n",
       "2012       1\n",
       "Name: count, dtype: int64"
      ]
     },
     "execution_count": 13,
     "metadata": {},
     "output_type": "execute_result"
    }
   ],
   "source": [
    "laptops_df['event_year'].value_counts()"
   ]
  },
  {
   "cell_type": "markdown",
   "metadata": {},
   "source": [
    "8. Now, let's focus on the problems causing people to bring in laptops for repair. Use a series method to display the most common problems in the dataset. "
   ]
  },
  {
   "cell_type": "code",
   "execution_count": 15,
   "metadata": {},
   "outputs": [
    {
     "data": {
      "text/plain": [
       "problem\n",
       "unknown                       980\n",
       "performance                   398\n",
       "power/battery                 316\n",
       "configuration                 295\n",
       "integrated screen             257\n",
       "internal storage              184\n",
       "operating system              177\n",
       "boot                          171\n",
       "ports/slots/connectors        127\n",
       "overheating                   107\n",
       "integrated keyboard           106\n",
       "case/chassis                   75\n",
       "system board                   72\n",
       "internal damage                59\n",
       "virus/malware                  57\n",
       "other                          32\n",
       "integrated media component     27\n",
       "integrated pointing device     25\n",
       "multiple                       23\n",
       "integrated optical drive       23\n",
       "Name: count, dtype: int64"
      ]
     },
     "execution_count": 15,
     "metadata": {},
     "output_type": "execute_result"
    }
   ],
   "source": [
    "laptops_df['problem'].value_counts()"
   ]
  },
  {
   "cell_type": "markdown",
   "metadata": {},
   "source": [
    "9. Power and battery issues are pretty common, but what percentage of the data do they represent? Modify the method from the previous task to output percentages instead of counts."
   ]
  },
  {
   "cell_type": "code",
   "execution_count": 16,
   "metadata": {},
   "outputs": [
    {
     "data": {
      "text/plain": [
       "problem\n",
       "unknown                       0.279123\n",
       "performance                   0.113358\n",
       "power/battery                 0.090003\n",
       "configuration                 0.084022\n",
       "integrated screen             0.073199\n",
       "internal storage              0.052407\n",
       "operating system              0.050413\n",
       "boot                          0.048704\n",
       "ports/slots/connectors        0.036172\n",
       "overheating                   0.030476\n",
       "integrated keyboard           0.030191\n",
       "case/chassis                  0.021361\n",
       "system board                  0.020507\n",
       "internal damage               0.016804\n",
       "virus/malware                 0.016235\n",
       "other                         0.009114\n",
       "integrated media component    0.007690\n",
       "integrated pointing device    0.007120\n",
       "multiple                      0.006551\n",
       "integrated optical drive      0.006551\n",
       "Name: proportion, dtype: float64"
      ]
     },
     "execution_count": 16,
     "metadata": {},
     "output_type": "execute_result"
    }
   ],
   "source": [
    "laptops_df['problem'].value_counts(normalize=True)"
   ]
  },
  {
   "cell_type": "markdown",
   "metadata": {},
   "source": [
    "10. Lastly, let's look at how often laptops brought into these events are recorded as fixed. Use a pandas method to count the number of laptops in each category of `repair_status`."
   ]
  },
  {
   "cell_type": "code",
   "execution_count": 18,
   "metadata": {},
   "outputs": [
    {
     "data": {
      "text/plain": [
       "repair_status\n",
       "fixed          1835\n",
       "repairable     1146\n",
       "end of life     423\n",
       "unknown         107\n",
       "Name: count, dtype: int64"
      ]
     },
     "execution_count": 18,
     "metadata": {},
     "output_type": "execute_result"
    }
   ],
   "source": [
    "laptops_df['repair_status'].value_counts()"
   ]
  }
 ],
 "metadata": {
  "kernelspec": {
   "display_name": ".venv",
   "language": "python",
   "name": "python3"
  },
  "language_info": {
   "codemirror_mode": {
    "name": "ipython",
    "version": 3
   },
   "file_extension": ".py",
   "mimetype": "text/x-python",
   "name": "python",
   "nbconvert_exporter": "python",
   "pygments_lexer": "ipython3",
   "version": "3.12.7"
  }
 },
 "nbformat": 4,
 "nbformat_minor": 2
}
